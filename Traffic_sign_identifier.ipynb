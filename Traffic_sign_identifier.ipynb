{
  "nbformat": 4,
  "nbformat_minor": 0,
  "metadata": {
    "colab": {
      "name": "Traffic-sign-identifier.ipynb",
      "version": "0.3.2",
      "provenance": [],
      "collapsed_sections": []
    },
    "kernelspec": {
      "name": "python3",
      "display_name": "Python 3"
    },
    "accelerator": "GPU"
  },
  "cells": [
    {
      "metadata": {
        "id": "E8w30c-ps9FO",
        "colab_type": "code",
        "colab": {}
      },
      "cell_type": "code",
      "source": [
        "from skimage import io\n",
        "import os\n",
        "import glob\n",
        "import numpy as np\n",
        "from skimage import color, exposure, transform\n",
        "from keras.models import Sequential\n",
        "from keras.layers.core import Dense, Dropout, Activation, Flatten\n",
        "from keras.callbacks import LearningRateScheduler, ModelCheckpoint\n",
        "from keras.layers.convolutional import Conv2D\n",
        "from keras.layers.pooling import MaxPooling2D\n",
        "from keras.optimizers import SGD,Adam\n",
        "from keras import backend as K\n",
        "import pandas as pd\n",
        "import matplotlib.pyplot as plt\n",
        "K.set_image_data_format('channels_first')\n",
        "\n",
        "\n",
        "NUM_CLASSES = 43\n",
        "IMG_SIZE = 48"
      ],
      "execution_count": 0,
      "outputs": []
    },
    {
      "metadata": {
        "id": "4OI3VsO7QiZ4",
        "colab_type": "code",
        "colab": {}
      },
      "cell_type": "code",
      "source": [
        "def preprocess_img(img):\n",
        "    # Histogram normalization in v channel\n",
        "    hsv = color.rgb2hsv(img)\n",
        "    hsv[:, :, 2] = exposure.equalize_hist(hsv[:, :, 2])\n",
        "    img = color.hsv2rgb(hsv)\n",
        "\n",
        "    # central square crop\n",
        "    min_side = min(img.shape[:-1])\n",
        "    centre = img.shape[0] // 2, img.shape[1] // 2\n",
        "    img = img[centre[0] - min_side // 2:centre[0] + min_side // 2,\n",
        "              centre[1] - min_side // 2:centre[1] + min_side // 2,\n",
        "              :]\n",
        "\n",
        "    # rescale to standard size\n",
        "    img = transform.resize(img, (IMG_SIZE, IMG_SIZE))\n",
        "\n",
        "    # roll color axis to axis 0\n",
        "    img = np.rollaxis(img, -1)\n",
        "\n",
        "    return img"
      ],
      "execution_count": 0,
      "outputs": []
    },
    {
      "metadata": {
        "id": "GD489tApl7iw",
        "colab_type": "code",
        "colab": {
          "base_uri": "https://localhost:8080/",
          "height": 72
        },
        "outputId": "4d79fbeb-2e7d-4147-c871-706b5e344f74"
      },
      "cell_type": "code",
      "source": [
        "def get_class(img_path):\n",
        "    return int(img_path.split('/')[-2])\n",
        "\n",
        "root_dir = 'train/GTSRB/Final_Training/Images/'\n",
        "imgs = []\n",
        "labels = []\n",
        "\n",
        "all_img_paths = glob.glob(os.path.join(root_dir, '*/*.ppm'))\n",
        "np.random.shuffle(all_img_paths)\n",
        "for img_path in all_img_paths:\n",
        "    img = preprocess_img(io.imread(img_path))\n",
        "    label = get_class(img_path)\n",
        "    imgs.append(img)\n",
        "    labels.append(label)\n",
        "\n",
        "X = np.array(imgs, dtype='float32')\n",
        "# Make one hot targets\n",
        "Y = np.eye(NUM_CLASSES, dtype='uint8')[labels]"
      ],
      "execution_count": 19,
      "outputs": [
        {
          "output_type": "stream",
          "text": [
            "/usr/local/lib/python3.6/dist-packages/skimage/transform/_warps.py:84: UserWarning: The default mode, 'constant', will be changed to 'reflect' in skimage 0.15.\n",
            "  warn(\"The default mode, 'constant', will be changed to 'reflect' in \"\n"
          ],
          "name": "stderr"
        }
      ]
    },
    {
      "metadata": {
        "id": "PQI6xQkxQtMI",
        "colab_type": "code",
        "colab": {}
      },
      "cell_type": "code",
      "source": [
        "def cnn_model():\n",
        "    model = Sequential()\n",
        "\n",
        "    model.add(Conv2D(32, (3, 3), padding='same',\n",
        "                     input_shape=(3, IMG_SIZE, IMG_SIZE),\n",
        "                     activation='relu'))\n",
        "    model.add(Conv2D(32, (3, 3), activation='relu'))\n",
        "    model.add(MaxPooling2D(pool_size=(2, 2)))\n",
        "    model.add(Dropout(0.2))\n",
        "\n",
        "    model.add(Conv2D(64, (3, 3), padding='same',\n",
        "                     activation='relu'))\n",
        "    model.add(Conv2D(64, (3, 3), activation='relu'))\n",
        "    model.add(MaxPooling2D(pool_size=(2, 2)))\n",
        "    model.add(Dropout(0.2))\n",
        "\n",
        "    model.add(Conv2D(128, (3, 3), padding='same',\n",
        "                     activation='relu'))\n",
        "    model.add(Conv2D(128, (3, 3), activation='relu'))\n",
        "    model.add(MaxPooling2D(pool_size=(2, 2)))\n",
        "    model.add(Dropout(0.2))\n",
        "\n",
        "    model.add(Flatten())\n",
        "    model.add(Dense(512, activation='relu'))\n",
        "    model.add(Dropout(0.5))\n",
        "    model.add(Dense(NUM_CLASSES, activation='softmax'))\n",
        "    return model"
      ],
      "execution_count": 0,
      "outputs": []
    },
    {
      "metadata": {
        "id": "UPcGoaViY8C-",
        "colab_type": "code",
        "colab": {}
      },
      "cell_type": "code",
      "source": [
        "model = cnn_model()\n",
        "\n",
        "# Using SGD + momentum\n",
        "lr = 0.01\n",
        "sgd = SGD(lr=lr, decay=1e-6, momentum=0.9, nesterov=True)\n",
        "model.compile(loss='categorical_crossentropy',\n",
        "              optimizer=sgd,\n",
        "              metrics=['accuracy'])\n",
        "\n"
      ],
      "execution_count": 0,
      "outputs": []
    },
    {
      "metadata": {
        "id": "-ZtlpY9JZECi",
        "colab_type": "code",
        "colab": {
          "base_uri": "https://localhost:8080/",
          "height": 766
        },
        "outputId": "ed92593f-c14c-4efb-fca6-1c67bcfc1346"
      },
      "cell_type": "code",
      "source": [
        "def lr_schedule(epoch):\n",
        "    return lr * (0.1 ** int(epoch / 10))\n",
        "\n",
        "batch_size = 128\n",
        "epochs = 20\n",
        "\n",
        "history = model.fit(X, Y,\n",
        "          batch_size=batch_size,\n",
        "          epochs=epochs,\n",
        "          validation_split=0.2,\n",
        "          callbacks=[LearningRateScheduler(lr_schedule),\n",
        "                     ModelCheckpoint('model1.h5', save_best_only=True)]\n",
        "          )"
      ],
      "execution_count": 22,
      "outputs": [
        {
          "output_type": "stream",
          "text": [
            "WARNING:tensorflow:Variable *= will be deprecated. Use variable.assign_mul if you want assignment to the variable value or 'x = x * y' if you want a new python Tensor object.\n",
            "Train on 31367 samples, validate on 7842 samples\n",
            "Epoch 1/20\n",
            "31367/31367 [==============================] - 18s 582us/step - loss: 2.7806 - acc: 0.2530 - val_loss: 1.1166 - val_acc: 0.6311\n",
            "Epoch 2/20\n",
            " 5760/31367 [====>.........................] - ETA: 12s - loss: 1.0991 - acc: 0.6594"
          ],
          "name": "stdout"
        },
        {
          "output_type": "stream",
          "text": [
            "31367/31367 [==============================] - 17s 530us/step - loss: 0.6816 - acc: 0.7847 - val_loss: 0.3737 - val_acc: 0.8794\n",
            "Epoch 3/20\n",
            "31367/31367 [==============================] - 17s 530us/step - loss: 0.2705 - acc: 0.9147 - val_loss: 0.0851 - val_acc: 0.9728\n",
            "Epoch 4/20\n",
            " 9984/31367 [========>.....................] - ETA: 10s - loss: 0.1830 - acc: 0.9398"
          ],
          "name": "stdout"
        },
        {
          "output_type": "stream",
          "text": [
            "31367/31367 [==============================] - 17s 537us/step - loss: 0.1683 - acc: 0.9461 - val_loss: 0.0498 - val_acc: 0.9858\n",
            "Epoch 5/20\n",
            "31367/31367 [==============================] - 17s 533us/step - loss: 0.1177 - acc: 0.9629 - val_loss: 0.0454 - val_acc: 0.9879\n",
            "Epoch 6/20\n",
            "11008/31367 [=========>....................] - ETA: 9s - loss: 0.0980 - acc: 0.9684 "
          ],
          "name": "stdout"
        },
        {
          "output_type": "stream",
          "text": [
            "31367/31367 [==============================] - 17s 533us/step - loss: 0.0939 - acc: 0.9702 - val_loss: 0.0455 - val_acc: 0.9858\n",
            "Epoch 7/20\n",
            "31367/31367 [==============================] - 17s 530us/step - loss: 0.0789 - acc: 0.9756 - val_loss: 0.0625 - val_acc: 0.9795\n",
            "Epoch 8/20\n",
            "11136/31367 [=========>....................] - ETA: 9s - loss: 0.0792 - acc: 0.9750"
          ],
          "name": "stdout"
        },
        {
          "output_type": "stream",
          "text": [
            "31367/31367 [==============================] - 17s 528us/step - loss: 0.0680 - acc: 0.9783 - val_loss: 0.0280 - val_acc: 0.9913\n",
            "Epoch 9/20\n",
            "31367/31367 [==============================] - 17s 530us/step - loss: 0.0543 - acc: 0.9824 - val_loss: 0.0227 - val_acc: 0.9929\n",
            "Epoch 10/20\n",
            "11136/31367 [=========>....................] - ETA: 10s - loss: 0.0459 - acc: 0.9862"
          ],
          "name": "stdout"
        },
        {
          "output_type": "stream",
          "text": [
            "31367/31367 [==============================] - 17s 531us/step - loss: 0.0476 - acc: 0.9847 - val_loss: 0.0237 - val_acc: 0.9931\n",
            "Epoch 11/20\n",
            "31367/31367 [==============================] - 17s 533us/step - loss: 0.0331 - acc: 0.9894 - val_loss: 0.0189 - val_acc: 0.9950\n",
            "Epoch 12/20\n",
            "11136/31367 [=========>....................] - ETA: 9s - loss: 0.0251 - acc: 0.9919"
          ],
          "name": "stdout"
        },
        {
          "output_type": "stream",
          "text": [
            "31367/31367 [==============================] - 17s 528us/step - loss: 0.0261 - acc: 0.9915 - val_loss: 0.0177 - val_acc: 0.9952\n",
            "Epoch 13/20\n",
            "31367/31367 [==============================] - 17s 535us/step - loss: 0.0249 - acc: 0.9921 - val_loss: 0.0169 - val_acc: 0.9954\n",
            "Epoch 14/20\n",
            "10880/31367 [=========>....................] - ETA: 10s - loss: 0.0215 - acc: 0.9936"
          ],
          "name": "stdout"
        },
        {
          "output_type": "stream",
          "text": [
            "31367/31367 [==============================] - 17s 534us/step - loss: 0.0227 - acc: 0.9928 - val_loss: 0.0168 - val_acc: 0.9950\n",
            "Epoch 15/20\n",
            "31367/31367 [==============================] - 17s 536us/step - loss: 0.0225 - acc: 0.9930 - val_loss: 0.0156 - val_acc: 0.9950\n",
            "Epoch 16/20\n",
            "11008/31367 [=========>....................] - ETA: 9s - loss: 0.0244 - acc: 0.9916 "
          ],
          "name": "stdout"
        },
        {
          "output_type": "stream",
          "text": [
            "31367/31367 [==============================] - 17s 533us/step - loss: 0.0227 - acc: 0.9928 - val_loss: 0.0154 - val_acc: 0.9955\n",
            "Epoch 17/20\n",
            "31367/31367 [==============================] - 17s 537us/step - loss: 0.0207 - acc: 0.9925 - val_loss: 0.0158 - val_acc: 0.9955\n",
            "Epoch 18/20\n",
            "11008/31367 [=========>....................] - ETA: 10s - loss: 0.0176 - acc: 0.9940"
          ],
          "name": "stdout"
        },
        {
          "output_type": "stream",
          "text": [
            "31367/31367 [==============================] - 17s 533us/step - loss: 0.0189 - acc: 0.9936 - val_loss: 0.0155 - val_acc: 0.9955\n",
            "Epoch 19/20\n",
            "31367/31367 [==============================] - 17s 533us/step - loss: 0.0191 - acc: 0.9942 - val_loss: 0.0156 - val_acc: 0.9953\n",
            "Epoch 20/20\n",
            "11008/31367 [=========>....................] - ETA: 10s - loss: 0.0176 - acc: 0.9947"
          ],
          "name": "stdout"
        },
        {
          "output_type": "stream",
          "text": [
            "31367/31367 [==============================] - 17s 537us/step - loss: 0.0185 - acc: 0.9940 - val_loss: 0.0162 - val_acc: 0.9950\n"
          ],
          "name": "stdout"
        }
      ]
    },
    {
      "metadata": {
        "id": "_I7GJmVjsSD4",
        "colab_type": "code",
        "colab": {
          "base_uri": "https://localhost:8080/",
          "height": 752
        },
        "outputId": "ac5437b1-6b76-4ae5-efcf-d91e3addc509"
      },
      "cell_type": "code",
      "source": [
        "# list all data in history\n",
        "print(history.history.keys())\n",
        "# summarize history for accuracy\n",
        "plt.plot(history.history['acc'])\n",
        "plt.plot(history.history['val_acc'])\n",
        "plt.title('model accuracy')\n",
        "plt.ylabel('accuracy')\n",
        "plt.xlabel('epoch')\n",
        "plt.legend(['train', 'test'], loc='upper left')\n",
        "plt.show()\n",
        "# summarize history for loss\n",
        "plt.plot(history.history['loss'])\n",
        "plt.plot(history.history['val_loss'])\n",
        "plt.title('model loss')\n",
        "plt.ylabel('loss')\n",
        "plt.xlabel('epoch')\n",
        "plt.legend(['train', 'test'], loc='upper left')\n",
        "plt.show()"
      ],
      "execution_count": 25,
      "outputs": [
        {
          "output_type": "stream",
          "text": [
            "dict_keys(['val_loss', 'val_acc', 'loss', 'acc'])\n"
          ],
          "name": "stdout"
        },
        {
          "output_type": "display_data",
          "data": {
            "image/png": "[encoded data removed]",
            "text/plain": [
              "<matplotlib.figure.Figure at 0x7fe482ca5940>"
            ]
          },
          "metadata": {
            "tags": []
          }
        },
        {
          "output_type": "display_data",
          "data": {
            "image/png": "[encoded data removed]",
            "text/plain": [
              "<matplotlib.figure.Figure at 0x7fe482caf9e8>"
            ]
          },
          "metadata": {
            "tags": []
          }
        }
      ]
    },
    {
      "metadata": {
        "id": "8qE4v4-vZUfy",
        "colab_type": "code",
        "colab": {
          "base_uri": "https://localhost:8080/",
          "height": 89
        },
        "outputId": "92eb9dd6-d679-4ac4-c4af-6115b70c72e5"
      },
      "cell_type": "code",
      "source": [
        "test = pd.read_csv('GT-final_test.csv', sep=';')\n",
        "\n",
        "# Load test dataset\n",
        "X_test = []\n",
        "y_test = []\n",
        "i = 0\n",
        "for file_name, class_id in zip(list(test['Filename']), list(test['ClassId'])):\n",
        "    img_path = os.path.join('test/GTSRB/Final_Test/Images/', file_name)\n",
        "    X_test.append(preprocess_img(io.imread(img_path)))\n",
        "    y_test.append(class_id)\n",
        "\n",
        "X_test = np.array(X_test)\n",
        "y_test = np.array(y_test)\n",
        "\n",
        "# predict and evaluate\n",
        "y_pred = model.predict_classes(X_test)\n",
        "acc = np.sum(y_pred == y_test) / np.size(y_pred)\n",
        "print(\"Test accuracy = {}\".format(acc))"
      ],
      "execution_count": 26,
      "outputs": [
        {
          "output_type": "stream",
          "text": [
            "/usr/local/lib/python3.6/dist-packages/skimage/transform/_warps.py:84: UserWarning: The default mode, 'constant', will be changed to 'reflect' in skimage 0.15.\n",
            "  warn(\"The default mode, 'constant', will be changed to 'reflect' in \"\n"
          ],
          "name": "stderr"
        },
        {
          "output_type": "stream",
          "text": [
            "Test accuracy = 0.9656373713380839\n"
          ],
          "name": "stdout"
        }
      ]
    },
    {
      "metadata": {
        "id": "Qh5cARILrLfC",
        "colab_type": "code",
        "colab": {}
      },
      "cell_type": "code",
      "source": [
        ""
      ],
      "execution_count": 0,
      "outputs": []
    }
  ]
}